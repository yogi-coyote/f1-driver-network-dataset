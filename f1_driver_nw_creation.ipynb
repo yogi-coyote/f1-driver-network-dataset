{
 "cells": [
  {
   "cell_type": "code",
   "execution_count": 357,
   "metadata": {},
   "outputs": [],
   "source": [
    "import pandas as pd\n",
    "import numpy as np\n",
    "\n",
    "from IPython.core.interactiveshell import InteractiveShell\n",
    "InteractiveShell.ast_node_interactivity = \"all\""
   ]
  },
  {
   "cell_type": "code",
   "execution_count": 358,
   "metadata": {},
   "outputs": [],
   "source": [
    "drivers = pd.read_csv('drivers.csv', header=0)\n",
    "constructors = pd.read_csv('constructors.csv', header=0)\n",
    "results = pd.read_csv('results.csv', header=0)\n",
    "races = pd.read_csv('races.csv', header=0)"
   ]
  },
  {
   "cell_type": "code",
   "execution_count": 359,
   "metadata": {},
   "outputs": [
    {
     "data": {
      "text/plain": [
       "1079"
      ]
     },
     "execution_count": 359,
     "metadata": {},
     "output_type": "execute_result"
    }
   ],
   "source": [
    "len(races)"
   ]
  },
  {
   "cell_type": "code",
   "execution_count": 360,
   "metadata": {},
   "outputs": [],
   "source": [
    "# Filer raceId here\n",
    "\n",
    "season = list(range(1950,2022)) #Enter a F1 World Championship year\n",
    "results = results[\n",
    "    results['raceId'].isin(\n",
    "        races[races['year'].isin(season)]['raceId'].values.tolist()\n",
    "        )\n",
    "    ]\n"
   ]
  },
  {
   "cell_type": "markdown",
   "metadata": {},
   "source": [
    "### Edges"
   ]
  },
  {
   "cell_type": "code",
   "execution_count": 361,
   "metadata": {},
   "outputs": [],
   "source": [
    "drivers_results = pd.merge(drivers, results, on='driverId')\n",
    "constructors_results = pd.merge(constructors, results, on='constructorId')\n",
    "drivers_constructors = pd.merge(drivers_results, constructors_results, on='resultId')\n",
    "drivers_constructors = drivers_constructors[['driverRef', 'forename', 'surname', \"dob\", 'nationality_x', 'constructorRef', 'name', 'raceId_x']].drop_duplicates()\n",
    "drivers_constructors.reset_index(inplace=True, drop=True)"
   ]
  },
  {
   "cell_type": "code",
   "execution_count": 362,
   "metadata": {},
   "outputs": [],
   "source": [
    "dc_1 = pd.merge(drivers_constructors, drivers_constructors, on=['raceId_x', 'constructorRef'])\n",
    "dc_1 = dc_1[['driverRef_x', 'driverRef_y']]\n",
    "dc_1['connection'] = 'constructor'\n",
    "dc_1.drop_duplicates(inplace=True)\n",
    "#dc_1"
   ]
  },
  {
   "cell_type": "code",
   "execution_count": 363,
   "metadata": {},
   "outputs": [],
   "source": [
    "dc_2 = pd.merge(drivers_constructors, drivers_constructors, on=['raceId_x', 'nationality_x'])\n",
    "dc_2 = dc_2[['driverRef_x', 'driverRef_y']]\n",
    "dc_2['connection'] = 'nation'\n",
    "dc_2.drop_duplicates(inplace=True)\n",
    "#dc_2"
   ]
  },
  {
   "cell_type": "code",
   "execution_count": 364,
   "metadata": {},
   "outputs": [],
   "source": [
    "driver_edges = pd.concat([dc_1,dc_2])"
   ]
  },
  {
   "cell_type": "code",
   "execution_count": 365,
   "metadata": {},
   "outputs": [],
   "source": [
    "edges = driver_edges[driver_edges['driverRef_x'] != driver_edges['driverRef_y']]\n",
    "edges.reset_index(inplace=True, drop=True)"
   ]
  },
  {
   "cell_type": "code",
   "execution_count": 366,
   "metadata": {},
   "outputs": [],
   "source": [
    "edges_list = edges.values.tolist()\n",
    "edges_set = [set(dl) for dl in edges_list] \n",
    "repeat_connections = [idx for idx, ds in enumerate(edges_set) if ds in edges_set[:idx]]"
   ]
  },
  {
   "cell_type": "code",
   "execution_count": 367,
   "metadata": {},
   "outputs": [
    {
     "name": "stderr",
     "output_type": "stream",
     "text": [
      "C:\\Users\\varma\\AppData\\Local\\Temp\\ipykernel_10580\\1200515550.py:1: SettingWithCopyWarning: \n",
      "A value is trying to be set on a copy of a slice from a DataFrame\n",
      "\n",
      "See the caveats in the documentation: https://pandas.pydata.org/pandas-docs/stable/user_guide/indexing.html#returning-a-view-versus-a-copy\n",
      "  edges.drop(repeat_connections, axis=0, inplace=True)\n"
     ]
    }
   ],
   "source": [
    "edges.drop(repeat_connections, axis=0, inplace=True)\n",
    "edges.reset_index(inplace=True, drop=True)"
   ]
  },
  {
   "cell_type": "markdown",
   "metadata": {},
   "source": [
    "### Nodes"
   ]
  },
  {
   "cell_type": "code",
   "execution_count": 368,
   "metadata": {},
   "outputs": [
    {
     "name": "stderr",
     "output_type": "stream",
     "text": [
      "C:\\Users\\varma\\AppData\\Local\\Temp\\ipykernel_10580\\2592146589.py:2: SettingWithCopyWarning: \n",
      "A value is trying to be set on a copy of a slice from a DataFrame\n",
      "\n",
      "See the caveats in the documentation: https://pandas.pydata.org/pandas-docs/stable/user_guide/indexing.html#returning-a-view-versus-a-copy\n",
      "  nodes.drop_duplicates(inplace=True)\n"
     ]
    }
   ],
   "source": [
    "nodes = drivers_constructors[['driverRef', 'forename', 'surname', 'dob', 'nationality_x']]\n",
    "nodes.drop_duplicates(inplace=True)\n",
    "nodes.reset_index(drop=True, inplace=True)"
   ]
  },
  {
   "cell_type": "markdown",
   "metadata": {},
   "source": [
    "### Writing to files"
   ]
  },
  {
   "cell_type": "code",
   "execution_count": 369,
   "metadata": {},
   "outputs": [],
   "source": [
    "edges.to_csv('./data/f1_edges_1950-21.csv', index = False)\n",
    "nodes.to_csv('./data/f1_nodes_1950-21.csv', index = False)"
   ]
  },
  {
   "cell_type": "code",
   "execution_count": 370,
   "metadata": {},
   "outputs": [
    {
     "data": {
      "text/html": [
       "<div>\n",
       "<style scoped>\n",
       "    .dataframe tbody tr th:only-of-type {\n",
       "        vertical-align: middle;\n",
       "    }\n",
       "\n",
       "    .dataframe tbody tr th {\n",
       "        vertical-align: top;\n",
       "    }\n",
       "\n",
       "    .dataframe thead th {\n",
       "        text-align: right;\n",
       "    }\n",
       "</style>\n",
       "<table border=\"1\" class=\"dataframe\">\n",
       "  <thead>\n",
       "    <tr style=\"text-align: right;\">\n",
       "      <th></th>\n",
       "      <th>driverRef</th>\n",
       "      <th>forename</th>\n",
       "      <th>surname</th>\n",
       "      <th>dob</th>\n",
       "      <th>nationality_x</th>\n",
       "    </tr>\n",
       "  </thead>\n",
       "  <tbody>\n",
       "    <tr>\n",
       "      <th>0</th>\n",
       "      <td>hamilton</td>\n",
       "      <td>Lewis</td>\n",
       "      <td>Hamilton</td>\n",
       "      <td>1985-01-07</td>\n",
       "      <td>British</td>\n",
       "    </tr>\n",
       "    <tr>\n",
       "      <th>1</th>\n",
       "      <td>heidfeld</td>\n",
       "      <td>Nick</td>\n",
       "      <td>Heidfeld</td>\n",
       "      <td>1977-05-10</td>\n",
       "      <td>German</td>\n",
       "    </tr>\n",
       "    <tr>\n",
       "      <th>2</th>\n",
       "      <td>rosberg</td>\n",
       "      <td>Nico</td>\n",
       "      <td>Rosberg</td>\n",
       "      <td>1985-06-27</td>\n",
       "      <td>German</td>\n",
       "    </tr>\n",
       "    <tr>\n",
       "      <th>3</th>\n",
       "      <td>alonso</td>\n",
       "      <td>Fernando</td>\n",
       "      <td>Alonso</td>\n",
       "      <td>1981-07-29</td>\n",
       "      <td>Spanish</td>\n",
       "    </tr>\n",
       "    <tr>\n",
       "      <th>4</th>\n",
       "      <td>kovalainen</td>\n",
       "      <td>Heikki</td>\n",
       "      <td>Kovalainen</td>\n",
       "      <td>1981-10-19</td>\n",
       "      <td>Finnish</td>\n",
       "    </tr>\n",
       "    <tr>\n",
       "      <th>...</th>\n",
       "      <td>...</td>\n",
       "      <td>...</td>\n",
       "      <td>...</td>\n",
       "      <td>...</td>\n",
       "      <td>...</td>\n",
       "    </tr>\n",
       "    <tr>\n",
       "      <th>845</th>\n",
       "      <td>russell</td>\n",
       "      <td>George</td>\n",
       "      <td>Russell</td>\n",
       "      <td>1998-02-15</td>\n",
       "      <td>British</td>\n",
       "    </tr>\n",
       "    <tr>\n",
       "      <th>846</th>\n",
       "      <td>albon</td>\n",
       "      <td>Alexander</td>\n",
       "      <td>Albon</td>\n",
       "      <td>1996-03-23</td>\n",
       "      <td>Thai</td>\n",
       "    </tr>\n",
       "    <tr>\n",
       "      <th>847</th>\n",
       "      <td>latifi</td>\n",
       "      <td>Nicholas</td>\n",
       "      <td>Latifi</td>\n",
       "      <td>1995-06-29</td>\n",
       "      <td>Canadian</td>\n",
       "    </tr>\n",
       "    <tr>\n",
       "      <th>848</th>\n",
       "      <td>pietro_fittipaldi</td>\n",
       "      <td>Pietro</td>\n",
       "      <td>Fittipaldi</td>\n",
       "      <td>1996-06-25</td>\n",
       "      <td>Brazilian</td>\n",
       "    </tr>\n",
       "    <tr>\n",
       "      <th>849</th>\n",
       "      <td>aitken</td>\n",
       "      <td>Jack</td>\n",
       "      <td>Aitken</td>\n",
       "      <td>1995-09-23</td>\n",
       "      <td>British</td>\n",
       "    </tr>\n",
       "  </tbody>\n",
       "</table>\n",
       "<p>850 rows × 5 columns</p>\n",
       "</div>"
      ],
      "text/plain": [
       "             driverRef   forename     surname         dob nationality_x\n",
       "0             hamilton      Lewis    Hamilton  1985-01-07       British\n",
       "1             heidfeld       Nick    Heidfeld  1977-05-10        German\n",
       "2              rosberg       Nico     Rosberg  1985-06-27        German\n",
       "3               alonso   Fernando      Alonso  1981-07-29       Spanish\n",
       "4           kovalainen     Heikki  Kovalainen  1981-10-19       Finnish\n",
       "..                 ...        ...         ...         ...           ...\n",
       "845            russell     George     Russell  1998-02-15       British\n",
       "846              albon  Alexander       Albon  1996-03-23          Thai\n",
       "847             latifi   Nicholas      Latifi  1995-06-29      Canadian\n",
       "848  pietro_fittipaldi     Pietro  Fittipaldi  1996-06-25     Brazilian\n",
       "849             aitken       Jack      Aitken  1995-09-23       British\n",
       "\n",
       "[850 rows x 5 columns]"
      ]
     },
     "execution_count": 370,
     "metadata": {},
     "output_type": "execute_result"
    },
    {
     "data": {
      "text/html": [
       "<div>\n",
       "<style scoped>\n",
       "    .dataframe tbody tr th:only-of-type {\n",
       "        vertical-align: middle;\n",
       "    }\n",
       "\n",
       "    .dataframe tbody tr th {\n",
       "        vertical-align: top;\n",
       "    }\n",
       "\n",
       "    .dataframe thead th {\n",
       "        text-align: right;\n",
       "    }\n",
       "</style>\n",
       "<table border=\"1\" class=\"dataframe\">\n",
       "  <thead>\n",
       "    <tr style=\"text-align: right;\">\n",
       "      <th></th>\n",
       "      <th>driverRef_x</th>\n",
       "      <th>driverRef_y</th>\n",
       "      <th>connection</th>\n",
       "    </tr>\n",
       "  </thead>\n",
       "  <tbody>\n",
       "    <tr>\n",
       "      <th>0</th>\n",
       "      <td>hamilton</td>\n",
       "      <td>kovalainen</td>\n",
       "      <td>constructor</td>\n",
       "    </tr>\n",
       "    <tr>\n",
       "      <th>1</th>\n",
       "      <td>hamilton</td>\n",
       "      <td>alonso</td>\n",
       "      <td>constructor</td>\n",
       "    </tr>\n",
       "    <tr>\n",
       "      <th>2</th>\n",
       "      <td>hamilton</td>\n",
       "      <td>button</td>\n",
       "      <td>constructor</td>\n",
       "    </tr>\n",
       "    <tr>\n",
       "      <th>3</th>\n",
       "      <td>hamilton</td>\n",
       "      <td>rosberg</td>\n",
       "      <td>constructor</td>\n",
       "    </tr>\n",
       "    <tr>\n",
       "      <th>4</th>\n",
       "      <td>hamilton</td>\n",
       "      <td>bottas</td>\n",
       "      <td>constructor</td>\n",
       "    </tr>\n",
       "    <tr>\n",
       "      <th>...</th>\n",
       "      <td>...</td>\n",
       "      <td>...</td>\n",
       "      <td>...</td>\n",
       "    </tr>\n",
       "    <tr>\n",
       "      <th>11181</th>\n",
       "      <td>lof</td>\n",
       "      <td>flinterman</td>\n",
       "      <td>nation</td>\n",
       "    </tr>\n",
       "    <tr>\n",
       "      <th>11182</th>\n",
       "      <td>perez</td>\n",
       "      <td>gutierrez</td>\n",
       "      <td>nation</td>\n",
       "    </tr>\n",
       "    <tr>\n",
       "      <th>11183</th>\n",
       "      <td>stroll</td>\n",
       "      <td>latifi</td>\n",
       "      <td>nation</td>\n",
       "    </tr>\n",
       "    <tr>\n",
       "      <th>11184</th>\n",
       "      <td>norris</td>\n",
       "      <td>aitken</td>\n",
       "      <td>nation</td>\n",
       "    </tr>\n",
       "    <tr>\n",
       "      <th>11185</th>\n",
       "      <td>russell</td>\n",
       "      <td>aitken</td>\n",
       "      <td>nation</td>\n",
       "    </tr>\n",
       "  </tbody>\n",
       "</table>\n",
       "<p>11186 rows × 3 columns</p>\n",
       "</div>"
      ],
      "text/plain": [
       "      driverRef_x driverRef_y   connection\n",
       "0        hamilton  kovalainen  constructor\n",
       "1        hamilton      alonso  constructor\n",
       "2        hamilton      button  constructor\n",
       "3        hamilton     rosberg  constructor\n",
       "4        hamilton      bottas  constructor\n",
       "...           ...         ...          ...\n",
       "11181         lof  flinterman       nation\n",
       "11182       perez   gutierrez       nation\n",
       "11183      stroll      latifi       nation\n",
       "11184      norris      aitken       nation\n",
       "11185     russell      aitken       nation\n",
       "\n",
       "[11186 rows x 3 columns]"
      ]
     },
     "execution_count": 370,
     "metadata": {},
     "output_type": "execute_result"
    }
   ],
   "source": [
    "nodes\n",
    "edges"
   ]
  }
 ],
 "metadata": {
  "interpreter": {
   "hash": "3d73c0d1bf8f311b643649e17b9744dfe487a8d8f288e97e0e91d1a66562ba3b"
  },
  "kernelspec": {
   "display_name": "Python 3.10.2 64-bit",
   "language": "python",
   "name": "python3"
  },
  "language_info": {
   "codemirror_mode": {
    "name": "ipython",
    "version": 3
   },
   "file_extension": ".py",
   "mimetype": "text/x-python",
   "name": "python",
   "nbconvert_exporter": "python",
   "pygments_lexer": "ipython3",
   "version": "3.10.2"
  },
  "orig_nbformat": 4
 },
 "nbformat": 4,
 "nbformat_minor": 2
}
